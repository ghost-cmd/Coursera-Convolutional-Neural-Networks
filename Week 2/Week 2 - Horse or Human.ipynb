{
  "nbformat": 4,
  "nbformat_minor": 0,
  "metadata": {
    "colab": {
      "name": "Week 2 Horse or Human.ipynb",
      "version": "0.3.2",
      "provenance": []
    },
    "kernelspec": {
      "name": "python3",
      "display_name": "Python 3"
    },
    "accelerator": "GPU"
  },
  "cells": [
    {
      "cell_type": "code",
      "metadata": {
        "id": "VPsxc2oefA_p",
        "colab_type": "code",
        "colab": {
          "base_uri": "https://localhost:8080/",
          "height": 386
        },
        "outputId": "f6e8ef15-da77-4a01-c679-0bc4101199ff"
      },
      "source": [
        "!wget --no-check-certificate \\\n",
        "    https://storage.googleapis.com/laurencemoroney-blog.appspot.com/horse-or-human.zip \\\n",
        "    -O /tmp/horse-or-human.zip\n",
        "\n",
        "!wget --no-check-certificate \\\n",
        "    https://storage.googleapis.com/laurencemoroney-blog.appspot.com/validation-horse-or-human.zip \\\n",
        "    -O /tmp/validation-horse-or-human.zip\n",
        "  \n",
        "import os\n",
        "import zipfile\n",
        "\n",
        "local_zip = '/tmp/horse-or-human.zip'\n",
        "zip_ref = zipfile.ZipFile(local_zip, 'r')\n",
        "zip_ref.extractall('/tmp/horse-or-human')\n",
        "local_zip = '/tmp/validation-horse-or-human.zip'\n",
        "zip_ref = zipfile.ZipFile(local_zip, 'r')\n",
        "zip_ref.extractall('/tmp/validation-horse-or-human')\n",
        "zip_ref.close()\n",
        "# Directory with our training horse pictures\n",
        "train_horse_dir = os.path.join('/tmp/horse-or-human/horses')\n",
        "\n",
        "# Directory with our training human pictures\n",
        "train_human_dir = os.path.join('/tmp/horse-or-human/humans')\n",
        "\n",
        "# Directory with our training horse pictures\n",
        "validation_horse_dir = os.path.join('/tmp/validation-horse-or-human/horses')\n",
        "\n",
        "# Directory with our training human pictures\n",
        "validation_human_dir = os.path.join('/tmp/validation-horse-or-human/humans')"
      ],
      "execution_count": 1,
      "outputs": [
        {
          "output_type": "stream",
          "text": [
            "--2019-08-26 15:15:10--  https://storage.googleapis.com/laurencemoroney-blog.appspot.com/horse-or-human.zip\n",
            "Resolving storage.googleapis.com (storage.googleapis.com)... 173.194.197.128, 2607:f8b0:4001:c1b::80\n",
            "Connecting to storage.googleapis.com (storage.googleapis.com)|173.194.197.128|:443... connected.\n",
            "HTTP request sent, awaiting response... 200 OK\n",
            "Length: 149574867 (143M) [application/zip]\n",
            "Saving to: ‘/tmp/horse-or-human.zip’\n",
            "\n",
            "/tmp/horse-or-human 100%[===================>] 142.65M  77.8MB/s    in 1.8s    \n",
            "\n",
            "2019-08-26 15:15:12 (77.8 MB/s) - ‘/tmp/horse-or-human.zip’ saved [149574867/149574867]\n",
            "\n",
            "--2019-08-26 15:15:13--  https://storage.googleapis.com/laurencemoroney-blog.appspot.com/validation-horse-or-human.zip\n",
            "Resolving storage.googleapis.com (storage.googleapis.com)... 172.217.212.128, 2607:f8b0:4001:c03::80\n",
            "Connecting to storage.googleapis.com (storage.googleapis.com)|172.217.212.128|:443... connected.\n",
            "HTTP request sent, awaiting response... 200 OK\n",
            "Length: 11480187 (11M) [application/zip]\n",
            "Saving to: ‘/tmp/validation-horse-or-human.zip’\n",
            "\n",
            "/tmp/validation-hor 100%[===================>]  10.95M  44.4MB/s    in 0.2s    \n",
            "\n",
            "2019-08-26 15:15:13 (44.4 MB/s) - ‘/tmp/validation-horse-or-human.zip’ saved [11480187/11480187]\n",
            "\n"
          ],
          "name": "stdout"
        }
      ]
    },
    {
      "cell_type": "code",
      "metadata": {
        "id": "AEkLMlhHfItx",
        "colab_type": "code",
        "colab": {}
      },
      "source": [
        "import tensorflow as tf"
      ],
      "execution_count": 0,
      "outputs": []
    },
    {
      "cell_type": "code",
      "metadata": {
        "id": "5yae4HeofMUo",
        "colab_type": "code",
        "colab": {
          "base_uri": "https://localhost:8080/",
          "height": 104
        },
        "outputId": "d0787bcd-e154-4aac-b3bc-257ca869345f"
      },
      "source": [
        "model = tf.keras.models.Sequential([\n",
        "    # Note the input shape is the desired size of the image 300x300 with 3 bytes color\n",
        "    # This is the first convolution\n",
        "    tf.keras.layers.Conv2D(16, (3,3), activation='relu', input_shape=(300, 300, 3)),\n",
        "    tf.keras.layers.MaxPooling2D(2, 2),\n",
        "    # The second convolution\n",
        "    tf.keras.layers.Conv2D(32, (3,3), activation='relu'),\n",
        "    tf.keras.layers.MaxPooling2D(2,2),\n",
        "    # The third convolution\n",
        "    tf.keras.layers.Conv2D(64, (3,3), activation='relu'),\n",
        "    tf.keras.layers.MaxPooling2D(2,2),\n",
        "    # The fourth convolution\n",
        "    tf.keras.layers.Conv2D(64, (3,3), activation='relu'),\n",
        "    tf.keras.layers.MaxPooling2D(2,2),\n",
        "    # The fifth convolution\n",
        "    tf.keras.layers.Conv2D(64, (3,3), activation='relu'),\n",
        "    tf.keras.layers.MaxPooling2D(2,2),\n",
        "    # Flatten the results to feed into a DNN\n",
        "    tf.keras.layers.Flatten(),\n",
        "    # 512 neuron hidden layer\n",
        "    tf.keras.layers.Dense(512, activation='relu'),\n",
        "    # Only 1 output neuron. It will contain a value from 0-1 where 0 for 1 class ('horses') and 1 for the other ('humans')\n",
        "    tf.keras.layers.Dense(1, activation='sigmoid')\n",
        "])"
      ],
      "execution_count": 3,
      "outputs": [
        {
          "output_type": "stream",
          "text": [
            "WARNING: Logging before flag parsing goes to stderr.\n",
            "W0826 15:15:16.449351 140421970278272 deprecation.py:506] From /usr/local/lib/python3.6/dist-packages/tensorflow/python/ops/init_ops.py:1251: calling VarianceScaling.__init__ (from tensorflow.python.ops.init_ops) with dtype is deprecated and will be removed in a future version.\n",
            "Instructions for updating:\n",
            "Call initializer instance with the dtype argument instead of passing it to the constructor\n"
          ],
          "name": "stderr"
        }
      ]
    },
    {
      "cell_type": "code",
      "metadata": {
        "id": "3c-DyVSCfOp2",
        "colab_type": "code",
        "colab": {
          "base_uri": "https://localhost:8080/",
          "height": 87
        },
        "outputId": "36ae4c14-4900-4139-e8c8-afb2d1904e68"
      },
      "source": [
        "from tensorflow.keras.optimizers import RMSprop\n",
        "\n",
        "model.compile(loss='binary_crossentropy',\n",
        "              optimizer=RMSprop(lr=1e-4),\n",
        "              metrics=['acc'])"
      ],
      "execution_count": 4,
      "outputs": [
        {
          "output_type": "stream",
          "text": [
            "W0826 15:15:16.632794 140421970278272 deprecation.py:323] From /usr/local/lib/python3.6/dist-packages/tensorflow/python/ops/nn_impl.py:180: add_dispatch_support.<locals>.wrapper (from tensorflow.python.ops.array_ops) is deprecated and will be removed in a future version.\n",
            "Instructions for updating:\n",
            "Use tf.where in 2.0, which has the same broadcast rule as np.where\n"
          ],
          "name": "stderr"
        }
      ]
    },
    {
      "cell_type": "code",
      "metadata": {
        "id": "R6YFrVggfRbX",
        "colab_type": "code",
        "colab": {
          "base_uri": "https://localhost:8080/",
          "height": 50
        },
        "outputId": "d075403b-ed50-4347-e7ea-c6f50b37285b"
      },
      "source": [
        "from tensorflow.keras.preprocessing.image import ImageDataGenerator\n",
        "\n",
        "# All images will be rescaled by 1./255\n",
        "train_datagen = ImageDataGenerator(\n",
        "      rescale=1./255,\n",
        "      rotation_range=40,\n",
        "      width_shift_range=0.2,\n",
        "      height_shift_range=0.2,\n",
        "      shear_range=0.2,\n",
        "      zoom_range=0.2,\n",
        "      horizontal_flip=True,\n",
        "      fill_mode='nearest')\n",
        "\n",
        "validation_datagen = ImageDataGenerator(rescale=1/255)\n",
        "\n",
        "# Flow training images in batches of 128 using train_datagen generator\n",
        "train_generator = train_datagen.flow_from_directory(\n",
        "        '/tmp/horse-or-human/',  # This is the source directory for training images\n",
        "        target_size=(300, 300),  # All images will be resized to 150x150\n",
        "        batch_size=128,\n",
        "        # Since we use binary_crossentropy loss, we need binary labels\n",
        "        class_mode='binary')\n",
        "\n",
        "# Flow training images in batches of 128 using train_datagen generator\n",
        "validation_generator = validation_datagen.flow_from_directory(\n",
        "        '/tmp/validation-horse-or-human/',  # This is the source directory for training images\n",
        "        target_size=(300, 300),  # All images will be resized to 150x150\n",
        "        batch_size=32,\n",
        "        # Since we use binary_crossentropy loss, we need binary labels\n",
        "        class_mode='binary')"
      ],
      "execution_count": 5,
      "outputs": [
        {
          "output_type": "stream",
          "text": [
            "Found 1027 images belonging to 2 classes.\n",
            "Found 256 images belonging to 2 classes.\n"
          ],
          "name": "stdout"
        }
      ]
    },
    {
      "cell_type": "code",
      "metadata": {
        "id": "9UUMD-IofUW7",
        "colab_type": "code",
        "colab": {
          "base_uri": "https://localhost:8080/",
          "height": 1000
        },
        "outputId": "170c97ac-61c3-4140-833f-fc9f1982aebf"
      },
      "source": [
        "history = model.fit_generator(\n",
        "      train_generator,\n",
        "      steps_per_epoch=8,  \n",
        "      epochs=100,\n",
        "      verbose=1,\n",
        "      validation_data = validation_generator,\n",
        "      validation_steps=8)"
      ],
      "execution_count": 6,
      "outputs": [
        {
          "output_type": "stream",
          "text": [
            "Epoch 1/100\n",
            "8/8 [==============================] - 23s 3s/step - loss: 0.6940 - acc: 0.5495 - val_loss: 0.6807 - val_acc: 0.5000\n",
            "Epoch 2/100\n",
            "8/8 [==============================] - 20s 2s/step - loss: 0.6736 - acc: 0.5517 - val_loss: 0.6573 - val_acc: 0.5625\n",
            "Epoch 3/100\n",
            "8/8 [==============================] - 20s 2s/step - loss: 0.6623 - acc: 0.6808 - val_loss: 0.6487 - val_acc: 0.5078\n",
            "Epoch 4/100\n",
            "8/8 [==============================] - 23s 3s/step - loss: 0.6290 - acc: 0.6680 - val_loss: 0.5636 - val_acc: 0.8594\n",
            "Epoch 5/100\n",
            "8/8 [==============================] - 17s 2s/step - loss: 0.6045 - acc: 0.6835 - val_loss: 0.5696 - val_acc: 0.6680\n",
            "Epoch 6/100\n",
            "8/8 [==============================] - 22s 3s/step - loss: 0.5741 - acc: 0.7295 - val_loss: 0.4792 - val_acc: 0.9102\n",
            "Epoch 7/100\n",
            "8/8 [==============================] - 17s 2s/step - loss: 0.5636 - acc: 0.7364 - val_loss: 0.5078 - val_acc: 0.7266\n",
            "Epoch 8/100\n",
            "8/8 [==============================] - 23s 3s/step - loss: 0.5299 - acc: 0.7607 - val_loss: 0.4178 - val_acc: 0.8320\n",
            "Epoch 9/100\n",
            "8/8 [==============================] - 20s 2s/step - loss: 0.5019 - acc: 0.7575 - val_loss: 0.4447 - val_acc: 0.7930\n",
            "Epoch 10/100\n",
            "8/8 [==============================] - 20s 2s/step - loss: 0.4866 - acc: 0.7542 - val_loss: 0.4992 - val_acc: 0.7422\n",
            "Epoch 11/100\n",
            "8/8 [==============================] - 20s 2s/step - loss: 0.4407 - acc: 0.7831 - val_loss: 0.8324 - val_acc: 0.6133\n",
            "Epoch 12/100\n",
            "8/8 [==============================] - 20s 2s/step - loss: 0.4773 - acc: 0.7486 - val_loss: 0.9936 - val_acc: 0.5547\n",
            "Epoch 13/100\n",
            "8/8 [==============================] - 22s 3s/step - loss: 0.4558 - acc: 0.7744 - val_loss: 0.8228 - val_acc: 0.6484\n",
            "Epoch 14/100\n",
            "8/8 [==============================] - 17s 2s/step - loss: 0.5505 - acc: 0.7455 - val_loss: 0.8677 - val_acc: 0.6289\n",
            "Epoch 15/100\n",
            "8/8 [==============================] - 20s 2s/step - loss: 0.3813 - acc: 0.8331 - val_loss: 0.5994 - val_acc: 0.7344\n",
            "Epoch 16/100\n",
            "8/8 [==============================] - 23s 3s/step - loss: 0.4329 - acc: 0.8057 - val_loss: 0.7682 - val_acc: 0.6992\n",
            "Epoch 17/100\n",
            "8/8 [==============================] - 17s 2s/step - loss: 0.4557 - acc: 0.7765 - val_loss: 0.9360 - val_acc: 0.6445\n",
            "Epoch 18/100\n",
            "8/8 [==============================] - 22s 3s/step - loss: 0.3655 - acc: 0.8389 - val_loss: 1.2545 - val_acc: 0.5820\n",
            "Epoch 19/100\n",
            "8/8 [==============================] - 20s 3s/step - loss: 0.4272 - acc: 0.8053 - val_loss: 1.2555 - val_acc: 0.5898\n",
            "Epoch 20/100\n",
            "8/8 [==============================] - 20s 2s/step - loss: 0.4124 - acc: 0.8031 - val_loss: 1.3287 - val_acc: 0.5781\n",
            "Epoch 21/100\n",
            "8/8 [==============================] - 22s 3s/step - loss: 0.3472 - acc: 0.8496 - val_loss: 1.3486 - val_acc: 0.5977\n",
            "Epoch 22/100\n",
            "8/8 [==============================] - 17s 2s/step - loss: 0.4627 - acc: 0.7713 - val_loss: 1.5301 - val_acc: 0.5547\n",
            "Epoch 23/100\n",
            "8/8 [==============================] - 20s 2s/step - loss: 0.3934 - acc: 0.8443 - val_loss: 0.6833 - val_acc: 0.7227\n",
            "Epoch 24/100\n",
            "8/8 [==============================] - 22s 3s/step - loss: 0.3864 - acc: 0.8398 - val_loss: 1.4939 - val_acc: 0.5625\n",
            "Epoch 25/100\n",
            "8/8 [==============================] - 17s 2s/step - loss: 0.3194 - acc: 0.8333 - val_loss: 1.7393 - val_acc: 0.5547\n",
            "Epoch 26/100\n",
            "8/8 [==============================] - 22s 3s/step - loss: 0.3246 - acc: 0.8496 - val_loss: 1.3493 - val_acc: 0.6406\n",
            "Epoch 27/100\n",
            "8/8 [==============================] - 20s 2s/step - loss: 0.3495 - acc: 0.8465 - val_loss: 1.6615 - val_acc: 0.5742\n",
            "Epoch 28/100\n",
            "8/8 [==============================] - 20s 2s/step - loss: 0.3305 - acc: 0.8387 - val_loss: 2.0284 - val_acc: 0.5352\n",
            "Epoch 29/100\n",
            "8/8 [==============================] - 20s 2s/step - loss: 0.3545 - acc: 0.8354 - val_loss: 1.7795 - val_acc: 0.5703\n",
            "Epoch 30/100\n",
            "8/8 [==============================] - 20s 2s/step - loss: 0.3371 - acc: 0.8598 - val_loss: 1.6976 - val_acc: 0.5820\n",
            "Epoch 31/100\n",
            "8/8 [==============================] - 19s 2s/step - loss: 0.2829 - acc: 0.8788 - val_loss: 0.9805 - val_acc: 0.7148\n",
            "Epoch 32/100\n",
            "8/8 [==============================] - 20s 2s/step - loss: 0.3863 - acc: 0.8398 - val_loss: 2.1576 - val_acc: 0.5312\n",
            "Epoch 33/100\n",
            "8/8 [==============================] - 22s 3s/step - loss: 0.2934 - acc: 0.8799 - val_loss: 2.0688 - val_acc: 0.5586\n",
            "Epoch 34/100\n",
            "8/8 [==============================] - 20s 2s/step - loss: 0.3784 - acc: 0.8476 - val_loss: 2.3686 - val_acc: 0.5195\n",
            "Epoch 35/100\n",
            "8/8 [==============================] - 20s 2s/step - loss: 0.2749 - acc: 0.8788 - val_loss: 2.2504 - val_acc: 0.5664\n",
            "Epoch 36/100\n",
            "8/8 [==============================] - 20s 2s/step - loss: 0.2791 - acc: 0.8598 - val_loss: 2.7766 - val_acc: 0.5078\n",
            "Epoch 37/100\n",
            "8/8 [==============================] - 20s 2s/step - loss: 0.3029 - acc: 0.8498 - val_loss: 2.0960 - val_acc: 0.5703\n",
            "Epoch 38/100\n",
            "8/8 [==============================] - 19s 2s/step - loss: 0.2586 - acc: 0.8765 - val_loss: 1.7426 - val_acc: 0.6172\n",
            "Epoch 39/100\n",
            "8/8 [==============================] - 20s 2s/step - loss: 0.3096 - acc: 0.8721 - val_loss: 2.1892 - val_acc: 0.5625\n",
            "Epoch 40/100\n",
            "8/8 [==============================] - 22s 3s/step - loss: 0.2390 - acc: 0.8906 - val_loss: 2.5485 - val_acc: 0.5391\n",
            "Epoch 41/100\n",
            "8/8 [==============================] - 17s 2s/step - loss: 0.3200 - acc: 0.8669 - val_loss: 3.0874 - val_acc: 0.5117\n",
            "Epoch 42/100\n",
            "8/8 [==============================] - 20s 2s/step - loss: 0.2478 - acc: 0.9021 - val_loss: 2.2075 - val_acc: 0.5938\n",
            "Epoch 43/100\n",
            "8/8 [==============================] - 22s 3s/step - loss: 0.2482 - acc: 0.8975 - val_loss: 2.1857 - val_acc: 0.5977\n",
            "Epoch 44/100\n",
            "8/8 [==============================] - 20s 2s/step - loss: 0.2726 - acc: 0.8821 - val_loss: 2.9598 - val_acc: 0.5195\n",
            "Epoch 45/100\n",
            "8/8 [==============================] - 19s 2s/step - loss: 0.2455 - acc: 0.8865 - val_loss: 2.1088 - val_acc: 0.6094\n",
            "Epoch 46/100\n",
            "8/8 [==============================] - 20s 2s/step - loss: 0.3733 - acc: 0.8621 - val_loss: 2.5479 - val_acc: 0.5195\n",
            "Epoch 47/100\n",
            "8/8 [==============================] - 20s 2s/step - loss: 0.3381 - acc: 0.8999 - val_loss: 2.1570 - val_acc: 0.5547\n",
            "Epoch 48/100\n",
            "8/8 [==============================] - 20s 2s/step - loss: 0.2453 - acc: 0.8954 - val_loss: 3.6545 - val_acc: 0.5078\n",
            "Epoch 49/100\n",
            "8/8 [==============================] - 20s 2s/step - loss: 0.2531 - acc: 0.8954 - val_loss: 4.6438 - val_acc: 0.5000\n",
            "Epoch 50/100\n",
            "8/8 [==============================] - 20s 3s/step - loss: 0.2225 - acc: 0.8899 - val_loss: 2.7893 - val_acc: 0.5273\n",
            "Epoch 51/100\n",
            "8/8 [==============================] - 20s 2s/step - loss: 0.2157 - acc: 0.8977 - val_loss: 2.1346 - val_acc: 0.6055\n",
            "Epoch 52/100\n",
            "8/8 [==============================] - 23s 3s/step - loss: 0.2063 - acc: 0.9170 - val_loss: 3.6880 - val_acc: 0.5156\n",
            "Epoch 53/100\n",
            "8/8 [==============================] - 20s 2s/step - loss: 0.2650 - acc: 0.8710 - val_loss: 2.6387 - val_acc: 0.5820\n",
            "Epoch 54/100\n",
            "8/8 [==============================] - 20s 2s/step - loss: 0.2532 - acc: 0.8943 - val_loss: 2.7131 - val_acc: 0.5664\n",
            "Epoch 55/100\n",
            "8/8 [==============================] - 20s 2s/step - loss: 0.2166 - acc: 0.9199 - val_loss: 3.3746 - val_acc: 0.5234\n",
            "Epoch 56/100\n",
            "8/8 [==============================] - 20s 2s/step - loss: 0.2050 - acc: 0.9043 - val_loss: 3.4977 - val_acc: 0.5234\n",
            "Epoch 57/100\n",
            "8/8 [==============================] - 22s 3s/step - loss: 0.2293 - acc: 0.9053 - val_loss: 3.3587 - val_acc: 0.5234\n",
            "Epoch 58/100\n",
            "8/8 [==============================] - 20s 2s/step - loss: 0.2040 - acc: 0.9166 - val_loss: 4.0068 - val_acc: 0.5117\n",
            "Epoch 59/100\n",
            "8/8 [==============================] - 17s 2s/step - loss: 0.2206 - acc: 0.9083 - val_loss: 3.2808 - val_acc: 0.5312\n",
            "Epoch 60/100\n",
            "8/8 [==============================] - 20s 2s/step - loss: 0.1928 - acc: 0.9177 - val_loss: 3.1300 - val_acc: 0.5703\n",
            "Epoch 61/100\n",
            "8/8 [==============================] - 22s 3s/step - loss: 0.1784 - acc: 0.9336 - val_loss: 3.0975 - val_acc: 0.5703\n",
            "Epoch 62/100\n",
            "8/8 [==============================] - 20s 2s/step - loss: 0.4071 - acc: 0.8765 - val_loss: 2.8720 - val_acc: 0.5547\n",
            "Epoch 63/100\n",
            "8/8 [==============================] - 20s 2s/step - loss: 0.1897 - acc: 0.9377 - val_loss: 3.1977 - val_acc: 0.5430\n",
            "Epoch 64/100\n",
            "8/8 [==============================] - 22s 3s/step - loss: 0.1642 - acc: 0.9355 - val_loss: 3.5007 - val_acc: 0.5547\n",
            "Epoch 65/100\n",
            "8/8 [==============================] - 21s 3s/step - loss: 0.1400 - acc: 0.9422 - val_loss: 4.2014 - val_acc: 0.5234\n",
            "Epoch 66/100\n",
            "8/8 [==============================] - 19s 2s/step - loss: 0.2206 - acc: 0.9143 - val_loss: 3.8477 - val_acc: 0.5352\n",
            "Epoch 67/100\n",
            "8/8 [==============================] - 20s 2s/step - loss: 0.2145 - acc: 0.8954 - val_loss: 4.2415 - val_acc: 0.5156\n",
            "Epoch 68/100\n",
            "8/8 [==============================] - 17s 2s/step - loss: 0.1547 - acc: 0.9380 - val_loss: 1.4679 - val_acc: 0.7266\n",
            "Epoch 69/100\n",
            "8/8 [==============================] - 20s 2s/step - loss: 0.3276 - acc: 0.8721 - val_loss: 3.4357 - val_acc: 0.5430\n",
            "Epoch 70/100\n",
            "8/8 [==============================] - 22s 3s/step - loss: 0.1710 - acc: 0.9375 - val_loss: 4.7425 - val_acc: 0.5156\n",
            "Epoch 71/100\n",
            "8/8 [==============================] - 17s 2s/step - loss: 0.1629 - acc: 0.9225 - val_loss: 4.3819 - val_acc: 0.5156\n",
            "Epoch 72/100\n",
            "8/8 [==============================] - 23s 3s/step - loss: 0.1777 - acc: 0.9326 - val_loss: 2.8879 - val_acc: 0.6055\n",
            "Epoch 73/100\n",
            "8/8 [==============================] - 20s 2s/step - loss: 0.1828 - acc: 0.9110 - val_loss: 3.8832 - val_acc: 0.5391\n",
            "Epoch 74/100\n",
            "8/8 [==============================] - 22s 3s/step - loss: 0.2542 - acc: 0.8916 - val_loss: 3.9171 - val_acc: 0.5312\n",
            "Epoch 75/100\n",
            "8/8 [==============================] - 20s 2s/step - loss: 0.1389 - acc: 0.9444 - val_loss: 3.7242 - val_acc: 0.5547\n",
            "Epoch 76/100\n",
            "8/8 [==============================] - 17s 2s/step - loss: 0.2145 - acc: 0.8979 - val_loss: 3.6784 - val_acc: 0.5547\n",
            "Epoch 77/100\n",
            "8/8 [==============================] - 19s 2s/step - loss: 0.1536 - acc: 0.9433 - val_loss: 3.2946 - val_acc: 0.6016\n",
            "Epoch 78/100\n",
            "8/8 [==============================] - 19s 2s/step - loss: 0.2246 - acc: 0.9043 - val_loss: 5.3358 - val_acc: 0.5117\n",
            "Epoch 79/100\n",
            "8/8 [==============================] - 22s 3s/step - loss: 0.1564 - acc: 0.9375 - val_loss: 4.6861 - val_acc: 0.5273\n",
            "Epoch 80/100\n",
            "8/8 [==============================] - 20s 2s/step - loss: 0.2419 - acc: 0.9055 - val_loss: 5.9312 - val_acc: 0.5039\n",
            "Epoch 81/100\n",
            "8/8 [==============================] - 20s 2s/step - loss: 0.2317 - acc: 0.9333 - val_loss: 3.6078 - val_acc: 0.5508\n",
            "Epoch 82/100\n",
            "8/8 [==============================] - 20s 2s/step - loss: 0.1393 - acc: 0.9444 - val_loss: 4.2417 - val_acc: 0.5352\n",
            "Epoch 83/100\n",
            "8/8 [==============================] - 20s 2s/step - loss: 0.1235 - acc: 0.9544 - val_loss: 4.5310 - val_acc: 0.5352\n",
            "Epoch 84/100\n",
            "8/8 [==============================] - 20s 2s/step - loss: 0.1498 - acc: 0.9433 - val_loss: 2.6496 - val_acc: 0.6172\n",
            "Epoch 85/100\n",
            "8/8 [==============================] - 22s 3s/step - loss: 0.1904 - acc: 0.9258 - val_loss: 3.9059 - val_acc: 0.5625\n",
            "Epoch 86/100\n",
            "8/8 [==============================] - 20s 2s/step - loss: 0.1518 - acc: 0.9288 - val_loss: 5.6437 - val_acc: 0.5039\n",
            "Epoch 87/100\n",
            "8/8 [==============================] - 20s 2s/step - loss: 0.1488 - acc: 0.9288 - val_loss: 3.4353 - val_acc: 0.5898\n",
            "Epoch 88/100\n",
            "8/8 [==============================] - 20s 3s/step - loss: 0.2600 - acc: 0.9066 - val_loss: 3.7864 - val_acc: 0.5625\n",
            "Epoch 89/100\n",
            "8/8 [==============================] - 17s 2s/step - loss: 0.1014 - acc: 0.9638 - val_loss: 6.0020 - val_acc: 0.5078\n",
            "Epoch 90/100\n",
            "8/8 [==============================] - 23s 3s/step - loss: 0.1853 - acc: 0.9199 - val_loss: 4.5347 - val_acc: 0.5391\n",
            "Epoch 91/100\n",
            "8/8 [==============================] - 20s 3s/step - loss: 0.1557 - acc: 0.9344 - val_loss: 3.4865 - val_acc: 0.5820\n",
            "Epoch 92/100\n",
            "8/8 [==============================] - 20s 3s/step - loss: 0.2098 - acc: 0.9477 - val_loss: 6.9895 - val_acc: 0.5000\n",
            "Epoch 93/100\n",
            "8/8 [==============================] - 20s 2s/step - loss: 0.2002 - acc: 0.9132 - val_loss: 4.4199 - val_acc: 0.5352\n",
            "Epoch 94/100\n",
            "8/8 [==============================] - 20s 2s/step - loss: 0.1766 - acc: 0.9333 - val_loss: 4.4956 - val_acc: 0.5391\n",
            "Epoch 95/100\n",
            "8/8 [==============================] - 20s 2s/step - loss: 0.0943 - acc: 0.9700 - val_loss: 5.8553 - val_acc: 0.5195\n",
            "Epoch 96/100\n",
            "8/8 [==============================] - 23s 3s/step - loss: 0.1341 - acc: 0.9482 - val_loss: 3.3675 - val_acc: 0.5938\n",
            "Epoch 97/100\n",
            "8/8 [==============================] - 20s 2s/step - loss: 0.1881 - acc: 0.9188 - val_loss: 4.9996 - val_acc: 0.5234\n",
            "Epoch 98/100\n",
            "8/8 [==============================] - 20s 2s/step - loss: 0.1672 - acc: 0.9488 - val_loss: 5.0666 - val_acc: 0.5312\n",
            "Epoch 99/100\n",
            "8/8 [==============================] - 20s 2s/step - loss: 0.1193 - acc: 0.9522 - val_loss: 5.9372 - val_acc: 0.5156\n",
            "Epoch 100/100\n",
            "8/8 [==============================] - 20s 2s/step - loss: 0.1189 - acc: 0.9455 - val_loss: 4.9394 - val_acc: 0.5391\n"
          ],
          "name": "stdout"
        }
      ]
    },
    {
      "cell_type": "code",
      "metadata": {
        "id": "lgpNRG05fW87",
        "colab_type": "code",
        "colab": {
          "base_uri": "https://localhost:8080/",
          "height": 545
        },
        "outputId": "00dfebae-7855-4067-c1d9-1c2afba6c42b"
      },
      "source": [
        "import matplotlib.pyplot as plt\n",
        "acc = history.history['acc']\n",
        "val_acc = history.history['val_acc']\n",
        "loss = history.history['loss']\n",
        "val_loss = history.history['val_loss']\n",
        "\n",
        "epochs = range(len(acc))\n",
        "\n",
        "plt.plot(epochs, acc, 'r', label='Training accuracy')\n",
        "plt.plot(epochs, val_acc, 'b', label='Validation accuracy')\n",
        "plt.title('Training and validation accuracy')\n",
        "\n",
        "plt.figure()\n",
        "\n",
        "plt.plot(epochs, loss, 'r', label='Training Loss')\n",
        "plt.plot(epochs, val_loss, 'b', label='Validation Loss')\n",
        "plt.title('Training and validation loss')\n",
        "plt.legend()\n",
        "\n",
        "plt.show()"
      ],
      "execution_count": 7,
      "outputs": [
        {
          "output_type": "display_data",
          "data": {
            "image/png": "[encoded data removed]",
            "text/plain": [
              "<Figure size 432x288 with 1 Axes>"
            ]
          },
          "metadata": {
            "tags": []
          }
        },
        {
          "output_type": "display_data",
          "data": {
            "image/png": "[encoded data removed]",
            "text/plain": [
              "<Figure size 432x288 with 1 Axes>"
            ]
          },
          "metadata": {
            "tags": []
          }
        }
      ]
    },
    {
      "cell_type": "code",
      "metadata": {
        "id": "_atujf9PfiK4",
        "colab_type": "code",
        "colab": {}
      },
      "source": [
        ""
      ],
      "execution_count": 0,
      "outputs": []
    }
  ]
}