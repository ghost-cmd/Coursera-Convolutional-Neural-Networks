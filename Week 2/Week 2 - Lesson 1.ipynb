{
  "nbformat": 4,
  "nbformat_minor": 0,
  "metadata": {
    "colab": {
      "name": "Week 2 - Lesson 1.ipynb",
      "version": "0.3.2",
      "provenance": []
    },
    "kernelspec": {
      "name": "python3",
      "display_name": "Python 3"
    },
    "accelerator": "GPU"
  },
  "cells": [
    {
      "cell_type": "code",
      "metadata": {
        "id": "n9Q4YlWHQh4U",
        "colab_type": "code",
        "colab": {
          "base_uri": "https://localhost:8080/",
          "height": 202
        },
        "outputId": "1b7621f6-8f06-431d-9e85-24b1215cd7d2"
      },
      "source": [
        "!wget --no-check-certificate \\\n",
        "    https://storage.googleapis.com/mledu-datasets/cats_and_dogs_filtered.zip \\\n",
        "    -O /tmp/cats_and_dogs_filtered.zip"
      ],
      "execution_count": 1,
      "outputs": [
        {
          "output_type": "stream",
          "text": [
            "--2019-08-26 14:24:49--  https://storage.googleapis.com/mledu-datasets/cats_and_dogs_filtered.zip\n",
            "Resolving storage.googleapis.com (storage.googleapis.com)... 108.177.111.128, 2607:f8b0:4001:c14::80\n",
            "Connecting to storage.googleapis.com (storage.googleapis.com)|108.177.111.128|:443... connected.\n",
            "HTTP request sent, awaiting response... 200 OK\n",
            "Length: 68606236 (65M) [application/zip]\n",
            "Saving to: ‘/tmp/cats_and_dogs_filtered.zip’\n",
            "\n",
            "/tmp/cats_and_dogs_ 100%[===================>]  65.43M  50.1MB/s    in 1.3s    \n",
            "\n",
            "2019-08-26 14:24:51 (50.1 MB/s) - ‘/tmp/cats_and_dogs_filtered.zip’ saved [68606236/68606236]\n",
            "\n"
          ],
          "name": "stdout"
        }
      ]
    },
    {
      "cell_type": "code",
      "metadata": {
        "id": "H1XTNPq0UIO1",
        "colab_type": "code",
        "colab": {}
      },
      "source": [
        "import os\n",
        "import zipfile\n",
        "import tensorflow as tf\n",
        "from tensorflow.keras.optimizers import RMSprop\n",
        "from tensorflow.keras.preprocessing.image import ImageDataGenerator"
      ],
      "execution_count": 0,
      "outputs": []
    },
    {
      "cell_type": "code",
      "metadata": {
        "id": "f7fL0xjTUMKj",
        "colab_type": "code",
        "colab": {}
      },
      "source": [
        "local_zip = '/tmp/cats_and_dogs_filtered.zip'\n",
        "zip_ref = zipfile.ZipFile(local_zip, 'r')\n",
        "zip_ref.extractall('/tmp')\n",
        "zip_ref.close()"
      ],
      "execution_count": 0,
      "outputs": []
    },
    {
      "cell_type": "code",
      "metadata": {
        "id": "xa0_N1kuUOC4",
        "colab_type": "code",
        "colab": {}
      },
      "source": [
        "base_dir = '/tmp/cats_and_dogs_filtered'\n",
        "train_dir = os.path.join(base_dir, 'train')\n",
        "validation_dir = os.path.join(base_dir, 'validation')"
      ],
      "execution_count": 0,
      "outputs": []
    },
    {
      "cell_type": "code",
      "metadata": {
        "id": "5Aii1OP0UP9K",
        "colab_type": "code",
        "colab": {}
      },
      "source": [
        "# Directory with our training cat pictures\n",
        "train_cats_dir = os.path.join(train_dir, 'cats')\n",
        "\n",
        "# Directory with our training dog pictures\n",
        "train_dogs_dir = os.path.join(train_dir, 'dogs')\n",
        "\n",
        "# Directory with our validation cat pictures\n",
        "validation_cats_dir = os.path.join(validation_dir, 'cats')\n",
        "\n",
        "# Directory with our validation dog pictures\n",
        "validation_dogs_dir = os.path.join(validation_dir, 'dogs')"
      ],
      "execution_count": 0,
      "outputs": []
    },
    {
      "cell_type": "code",
      "metadata": {
        "id": "lLxwtn-tUSom",
        "colab_type": "code",
        "colab": {
          "base_uri": "https://localhost:8080/",
          "height": 104
        },
        "outputId": "ade92690-be54-4418-c13e-4df57384a0b8"
      },
      "source": [
        "model = tf.keras.models.Sequential([\n",
        "    tf.keras.layers.Conv2D(32, (3,3), activation='relu', input_shape=(150, 150, 3)),\n",
        "    tf.keras.layers.MaxPooling2D(2, 2),\n",
        "    tf.keras.layers.Conv2D(64, (3,3), activation='relu'),\n",
        "    tf.keras.layers.MaxPooling2D(2,2),\n",
        "    tf.keras.layers.Conv2D(128, (3,3), activation='relu'),\n",
        "    tf.keras.layers.MaxPooling2D(2,2),\n",
        "    tf.keras.layers.Conv2D(128, (3,3), activation='relu'),\n",
        "    tf.keras.layers.MaxPooling2D(2,2),\n",
        "    tf.keras.layers.Flatten(),\n",
        "    tf.keras.layers.Dense(512, activation='relu'),\n",
        "    tf.keras.layers.Dense(1, activation='sigmoid')\n",
        "])"
      ],
      "execution_count": 6,
      "outputs": [
        {
          "output_type": "stream",
          "text": [
            "WARNING: Logging before flag parsing goes to stderr.\n",
            "W0826 14:25:29.650030 139642563168128 deprecation.py:506] From /usr/local/lib/python3.6/dist-packages/tensorflow/python/ops/init_ops.py:1251: calling VarianceScaling.__init__ (from tensorflow.python.ops.init_ops) with dtype is deprecated and will be removed in a future version.\n",
            "Instructions for updating:\n",
            "Call initializer instance with the dtype argument instead of passing it to the constructor\n"
          ],
          "name": "stderr"
        }
      ]
    },
    {
      "cell_type": "code",
      "metadata": {
        "id": "_q1m2Ro4UUkB",
        "colab_type": "code",
        "colab": {
          "base_uri": "https://localhost:8080/",
          "height": 87
        },
        "outputId": "330c2b63-e7cf-4a84-a8a7-fc4a3d373f95"
      },
      "source": [
        "model.compile(loss='binary_crossentropy',\n",
        "              optimizer=RMSprop(lr=1e-4),\n",
        "              metrics=['acc'])"
      ],
      "execution_count": 7,
      "outputs": [
        {
          "output_type": "stream",
          "text": [
            "W0826 14:25:38.852488 139642563168128 deprecation.py:323] From /usr/local/lib/python3.6/dist-packages/tensorflow/python/ops/nn_impl.py:180: add_dispatch_support.<locals>.wrapper (from tensorflow.python.ops.array_ops) is deprecated and will be removed in a future version.\n",
            "Instructions for updating:\n",
            "Use tf.where in 2.0, which has the same broadcast rule as np.where\n"
          ],
          "name": "stderr"
        }
      ]
    },
    {
      "cell_type": "code",
      "metadata": {
        "id": "aA1Fhf7UUWzg",
        "colab_type": "code",
        "colab": {}
      },
      "source": [
        "# All images will be rescaled by 1./255\n",
        "train_datagen = ImageDataGenerator(rescale=1./255)\n",
        "test_datagen = ImageDataGenerator(rescale=1./255)"
      ],
      "execution_count": 0,
      "outputs": []
    },
    {
      "cell_type": "code",
      "metadata": {
        "id": "5NO92LsuUZYh",
        "colab_type": "code",
        "colab": {
          "base_uri": "https://localhost:8080/",
          "height": 34
        },
        "outputId": "b3cb1f37-5ee9-4b8c-e6c3-00474a094994"
      },
      "source": [
        "# Flow training images in batches of 20 using train_datagen generator\n",
        "train_generator = train_datagen.flow_from_directory(\n",
        "        train_dir,  # This is the source directory for training images\n",
        "        target_size=(150, 150),  # All images will be resized to 150x150\n",
        "        batch_size=20,\n",
        "        # Since we use binary_crossentropy loss, we need binary labels\n",
        "        class_mode='binary')"
      ],
      "execution_count": 9,
      "outputs": [
        {
          "output_type": "stream",
          "text": [
            "Found 2000 images belonging to 2 classes.\n"
          ],
          "name": "stdout"
        }
      ]
    },
    {
      "cell_type": "code",
      "metadata": {
        "id": "18ic4IL3Uplg",
        "colab_type": "code",
        "colab": {
          "base_uri": "https://localhost:8080/",
          "height": 34
        },
        "outputId": "7aafe304-cc1b-42be-892f-51271957013b"
      },
      "source": [
        "# Flow validation images in batches of 20 using test_datagen generator\n",
        "validation_generator = test_datagen.flow_from_directory(\n",
        "        validation_dir,\n",
        "        target_size=(150, 150),\n",
        "        batch_size=20,\n",
        "        class_mode='binary')"
      ],
      "execution_count": 10,
      "outputs": [
        {
          "output_type": "stream",
          "text": [
            "Found 1000 images belonging to 2 classes.\n"
          ],
          "name": "stdout"
        }
      ]
    },
    {
      "cell_type": "code",
      "metadata": {
        "id": "J7GT58X5UrX9",
        "colab_type": "code",
        "colab": {
          "base_uri": "https://localhost:8080/",
          "height": 1000
        },
        "outputId": "19aca022-5ef9-4af7-b25d-c179aafa27aa"
      },
      "source": [
        "history = model.fit_generator(\n",
        "      train_generator,\n",
        "      steps_per_epoch=100,  # 2000 images = batch_size * steps\n",
        "      epochs=100,\n",
        "      validation_data=validation_generator,\n",
        "      validation_steps=50,  # 1000 images = batch_size * steps\n",
        "      verbose=1)"
      ],
      "execution_count": 11,
      "outputs": [
        {
          "output_type": "stream",
          "text": [
            "Epoch 1/100\n",
            "100/100 [==============================] - 12s 115ms/step - loss: 0.6914 - acc: 0.5325 - val_loss: 0.6723 - val_acc: 0.6120\n",
            "Epoch 2/100\n",
            "100/100 [==============================] - 8s 84ms/step - loss: 0.6621 - acc: 0.6065 - val_loss: 0.6438 - val_acc: 0.6160\n",
            "Epoch 3/100\n",
            "100/100 [==============================] - 8s 83ms/step - loss: 0.6209 - acc: 0.6450 - val_loss: 0.6598 - val_acc: 0.6070\n",
            "Epoch 4/100\n",
            "100/100 [==============================] - 8s 84ms/step - loss: 0.5727 - acc: 0.6995 - val_loss: 0.5815 - val_acc: 0.7020\n",
            "Epoch 5/100\n",
            "100/100 [==============================] - 8s 84ms/step - loss: 0.5350 - acc: 0.7375 - val_loss: 0.5646 - val_acc: 0.7150\n",
            "Epoch 6/100\n",
            "100/100 [==============================] - 8s 84ms/step - loss: 0.5089 - acc: 0.7525 - val_loss: 0.5758 - val_acc: 0.6970\n",
            "Epoch 7/100\n",
            "100/100 [==============================] - 8s 83ms/step - loss: 0.4906 - acc: 0.7560 - val_loss: 0.5437 - val_acc: 0.7300\n",
            "Epoch 8/100\n",
            "100/100 [==============================] - 8s 84ms/step - loss: 0.4597 - acc: 0.7795 - val_loss: 0.5258 - val_acc: 0.7410\n",
            "Epoch 9/100\n",
            "100/100 [==============================] - 8s 83ms/step - loss: 0.4436 - acc: 0.7930 - val_loss: 0.5694 - val_acc: 0.7090\n",
            "Epoch 10/100\n",
            "100/100 [==============================] - 8s 83ms/step - loss: 0.4147 - acc: 0.8135 - val_loss: 0.6292 - val_acc: 0.6900\n",
            "Epoch 11/100\n",
            "100/100 [==============================] - 8s 84ms/step - loss: 0.3886 - acc: 0.8190 - val_loss: 0.5361 - val_acc: 0.7340\n",
            "Epoch 12/100\n",
            "100/100 [==============================] - 8s 84ms/step - loss: 0.3699 - acc: 0.8380 - val_loss: 0.5486 - val_acc: 0.7240\n",
            "Epoch 13/100\n",
            "100/100 [==============================] - 8s 84ms/step - loss: 0.3517 - acc: 0.8470 - val_loss: 0.5866 - val_acc: 0.7090\n",
            "Epoch 14/100\n",
            "100/100 [==============================] - 8s 84ms/step - loss: 0.3180 - acc: 0.8650 - val_loss: 0.5458 - val_acc: 0.7430\n",
            "Epoch 15/100\n",
            "100/100 [==============================] - 8s 85ms/step - loss: 0.3024 - acc: 0.8700 - val_loss: 0.5465 - val_acc: 0.7570\n",
            "Epoch 16/100\n",
            "100/100 [==============================] - 8s 85ms/step - loss: 0.2744 - acc: 0.8865 - val_loss: 0.5341 - val_acc: 0.7650\n",
            "Epoch 17/100\n",
            "100/100 [==============================] - 9s 86ms/step - loss: 0.2566 - acc: 0.8960 - val_loss: 0.6153 - val_acc: 0.7310\n",
            "Epoch 18/100\n",
            "100/100 [==============================] - 8s 85ms/step - loss: 0.2375 - acc: 0.9115 - val_loss: 0.5418 - val_acc: 0.7540\n",
            "Epoch 19/100\n",
            "100/100 [==============================] - 8s 85ms/step - loss: 0.2178 - acc: 0.9160 - val_loss: 0.5730 - val_acc: 0.7560\n",
            "Epoch 20/100\n",
            "100/100 [==============================] - 8s 84ms/step - loss: 0.1946 - acc: 0.9290 - val_loss: 0.8001 - val_acc: 0.6980\n",
            "Epoch 21/100\n",
            "100/100 [==============================] - 8s 84ms/step - loss: 0.1807 - acc: 0.9315 - val_loss: 0.6204 - val_acc: 0.7470\n",
            "Epoch 22/100\n",
            "100/100 [==============================] - 8s 84ms/step - loss: 0.1653 - acc: 0.9380 - val_loss: 0.6320 - val_acc: 0.7380\n",
            "Epoch 23/100\n",
            "100/100 [==============================] - 8s 85ms/step - loss: 0.1396 - acc: 0.9505 - val_loss: 0.6145 - val_acc: 0.7530\n",
            "Epoch 24/100\n",
            "100/100 [==============================] - 8s 83ms/step - loss: 0.1293 - acc: 0.9575 - val_loss: 0.6437 - val_acc: 0.7540\n",
            "Epoch 25/100\n",
            "100/100 [==============================] - 9s 85ms/step - loss: 0.1111 - acc: 0.9700 - val_loss: 0.6781 - val_acc: 0.7320\n",
            "Epoch 26/100\n",
            "100/100 [==============================] - 8s 84ms/step - loss: 0.0994 - acc: 0.9690 - val_loss: 0.6872 - val_acc: 0.7520\n",
            "Epoch 27/100\n",
            "100/100 [==============================] - 8s 83ms/step - loss: 0.0846 - acc: 0.9745 - val_loss: 0.7023 - val_acc: 0.7510\n",
            "Epoch 28/100\n",
            "100/100 [==============================] - 8s 83ms/step - loss: 0.0697 - acc: 0.9815 - val_loss: 0.8979 - val_acc: 0.7480\n",
            "Epoch 29/100\n",
            "100/100 [==============================] - 8s 83ms/step - loss: 0.0611 - acc: 0.9875 - val_loss: 0.8529 - val_acc: 0.7340\n",
            "Epoch 30/100\n",
            "100/100 [==============================] - 8s 84ms/step - loss: 0.0554 - acc: 0.9845 - val_loss: 0.8700 - val_acc: 0.7440\n",
            "Epoch 31/100\n",
            "100/100 [==============================] - 8s 83ms/step - loss: 0.0483 - acc: 0.9875 - val_loss: 0.8020 - val_acc: 0.7570\n",
            "Epoch 32/100\n",
            "100/100 [==============================] - 8s 84ms/step - loss: 0.0373 - acc: 0.9895 - val_loss: 0.9489 - val_acc: 0.7530\n",
            "Epoch 33/100\n",
            "100/100 [==============================] - 8s 83ms/step - loss: 0.0345 - acc: 0.9910 - val_loss: 0.8923 - val_acc: 0.7610\n",
            "Epoch 34/100\n",
            "100/100 [==============================] - 8s 84ms/step - loss: 0.0297 - acc: 0.9955 - val_loss: 0.9098 - val_acc: 0.7610\n",
            "Epoch 35/100\n",
            "100/100 [==============================] - 8s 84ms/step - loss: 0.0282 - acc: 0.9930 - val_loss: 1.0032 - val_acc: 0.7530\n",
            "Epoch 36/100\n",
            "100/100 [==============================] - 8s 82ms/step - loss: 0.0202 - acc: 0.9950 - val_loss: 1.0201 - val_acc: 0.7560\n",
            "Epoch 37/100\n",
            "100/100 [==============================] - 8s 83ms/step - loss: 0.0224 - acc: 0.9960 - val_loss: 1.0942 - val_acc: 0.7600\n",
            "Epoch 38/100\n",
            "100/100 [==============================] - 8s 83ms/step - loss: 0.0243 - acc: 0.9955 - val_loss: 1.1008 - val_acc: 0.7480\n",
            "Epoch 39/100\n",
            "100/100 [==============================] - 8s 83ms/step - loss: 0.0179 - acc: 0.9965 - val_loss: 1.1238 - val_acc: 0.7520\n",
            "Epoch 40/100\n",
            "100/100 [==============================] - 8s 83ms/step - loss: 0.0160 - acc: 0.9970 - val_loss: 1.1574 - val_acc: 0.7470\n",
            "Epoch 41/100\n",
            "100/100 [==============================] - 8s 83ms/step - loss: 0.0193 - acc: 0.9940 - val_loss: 1.1488 - val_acc: 0.7540\n",
            "Epoch 42/100\n",
            "100/100 [==============================] - 8s 83ms/step - loss: 0.0077 - acc: 0.9980 - val_loss: 1.2119 - val_acc: 0.7580\n",
            "Epoch 43/100\n",
            "100/100 [==============================] - 8s 83ms/step - loss: 0.0136 - acc: 0.9950 - val_loss: 1.3034 - val_acc: 0.7540\n",
            "Epoch 44/100\n",
            "100/100 [==============================] - 8s 83ms/step - loss: 0.0062 - acc: 0.9985 - val_loss: 1.3701 - val_acc: 0.7320\n",
            "Epoch 45/100\n",
            "100/100 [==============================] - 8s 84ms/step - loss: 0.0165 - acc: 0.9965 - val_loss: 1.3112 - val_acc: 0.7600\n",
            "Epoch 46/100\n",
            "100/100 [==============================] - 8s 83ms/step - loss: 0.0054 - acc: 0.9985 - val_loss: 1.3403 - val_acc: 0.7460\n",
            "Epoch 47/100\n",
            "100/100 [==============================] - 8s 83ms/step - loss: 0.0088 - acc: 0.9975 - val_loss: 1.3773 - val_acc: 0.7520\n",
            "Epoch 48/100\n",
            "100/100 [==============================] - 8s 83ms/step - loss: 0.0079 - acc: 0.9975 - val_loss: 1.4424 - val_acc: 0.7500\n",
            "Epoch 49/100\n",
            "100/100 [==============================] - 8s 83ms/step - loss: 0.0074 - acc: 0.9980 - val_loss: 1.4724 - val_acc: 0.7590\n",
            "Epoch 50/100\n",
            "100/100 [==============================] - 8s 82ms/step - loss: 0.0122 - acc: 0.9965 - val_loss: 1.4275 - val_acc: 0.7380\n",
            "Epoch 51/100\n",
            "100/100 [==============================] - 8s 83ms/step - loss: 0.0073 - acc: 0.9985 - val_loss: 1.3997 - val_acc: 0.7520\n",
            "Epoch 52/100\n",
            "100/100 [==============================] - 8s 83ms/step - loss: 0.0207 - acc: 0.9960 - val_loss: 1.4990 - val_acc: 0.7470\n",
            "Epoch 53/100\n",
            "100/100 [==============================] - 8s 83ms/step - loss: 9.5548e-04 - acc: 1.0000 - val_loss: 1.5334 - val_acc: 0.7630\n",
            "Epoch 54/100\n",
            "100/100 [==============================] - 9s 86ms/step - loss: 0.0098 - acc: 0.9965 - val_loss: 1.4939 - val_acc: 0.7490\n",
            "Epoch 55/100\n",
            "100/100 [==============================] - 8s 84ms/step - loss: 0.0093 - acc: 0.9965 - val_loss: 1.5542 - val_acc: 0.7500\n",
            "Epoch 56/100\n",
            "100/100 [==============================] - 8s 82ms/step - loss: 0.0042 - acc: 0.9980 - val_loss: 1.5323 - val_acc: 0.7550\n",
            "Epoch 57/100\n",
            "100/100 [==============================] - 8s 82ms/step - loss: 0.0056 - acc: 0.9985 - val_loss: 1.5404 - val_acc: 0.7610\n",
            "Epoch 58/100\n",
            "100/100 [==============================] - 8s 83ms/step - loss: 0.0066 - acc: 0.9980 - val_loss: 1.6329 - val_acc: 0.7560\n",
            "Epoch 59/100\n",
            "100/100 [==============================] - 8s 83ms/step - loss: 0.0025 - acc: 0.9990 - val_loss: 1.7412 - val_acc: 0.7650\n",
            "Epoch 60/100\n",
            "100/100 [==============================] - 8s 83ms/step - loss: 0.0029 - acc: 0.9985 - val_loss: 1.6378 - val_acc: 0.7590\n",
            "Epoch 61/100\n",
            "100/100 [==============================] - 8s 84ms/step - loss: 0.0041 - acc: 0.9975 - val_loss: 1.7608 - val_acc: 0.7600\n",
            "Epoch 62/100\n",
            "100/100 [==============================] - 8s 84ms/step - loss: 0.0075 - acc: 0.9960 - val_loss: 1.8669 - val_acc: 0.7600\n",
            "Epoch 63/100\n",
            "100/100 [==============================] - 8s 85ms/step - loss: 0.0028 - acc: 0.9995 - val_loss: 1.7790 - val_acc: 0.7590\n",
            "Epoch 64/100\n",
            "100/100 [==============================] - 8s 84ms/step - loss: 0.0063 - acc: 0.9990 - val_loss: 1.7002 - val_acc: 0.7580\n",
            "Epoch 65/100\n",
            "100/100 [==============================] - 8s 83ms/step - loss: 0.0100 - acc: 0.9980 - val_loss: 1.7948 - val_acc: 0.7570\n",
            "Epoch 66/100\n",
            "100/100 [==============================] - 8s 84ms/step - loss: 0.0153 - acc: 0.9970 - val_loss: 1.7807 - val_acc: 0.7500\n",
            "Epoch 67/100\n",
            "100/100 [==============================] - 8s 83ms/step - loss: 4.9583e-04 - acc: 0.9995 - val_loss: 2.9034 - val_acc: 0.6980\n",
            "Epoch 68/100\n",
            "100/100 [==============================] - 8s 83ms/step - loss: 0.0085 - acc: 0.9975 - val_loss: 1.7628 - val_acc: 0.7530\n",
            "Epoch 69/100\n",
            "100/100 [==============================] - 8s 83ms/step - loss: 8.6078e-05 - acc: 1.0000 - val_loss: 1.9404 - val_acc: 0.7600\n",
            "Epoch 70/100\n",
            "100/100 [==============================] - 8s 84ms/step - loss: 0.0041 - acc: 0.9985 - val_loss: 1.9093 - val_acc: 0.7520\n",
            "Epoch 71/100\n",
            "100/100 [==============================] - 8s 84ms/step - loss: 0.0066 - acc: 0.9985 - val_loss: 1.8454 - val_acc: 0.7620\n",
            "Epoch 72/100\n",
            "100/100 [==============================] - 8s 84ms/step - loss: 0.0042 - acc: 0.9980 - val_loss: 1.9814 - val_acc: 0.7600\n",
            "Epoch 73/100\n",
            "100/100 [==============================] - 8s 83ms/step - loss: 0.0071 - acc: 0.9980 - val_loss: 1.8722 - val_acc: 0.7640\n",
            "Epoch 74/100\n",
            "100/100 [==============================] - 8s 84ms/step - loss: 0.0035 - acc: 0.9990 - val_loss: 2.0964 - val_acc: 0.7360\n",
            "Epoch 75/100\n",
            "100/100 [==============================] - 8s 82ms/step - loss: 0.0016 - acc: 0.9995 - val_loss: 1.9214 - val_acc: 0.7590\n",
            "Epoch 76/100\n",
            "100/100 [==============================] - 8s 84ms/step - loss: 0.0023 - acc: 0.9990 - val_loss: 1.8947 - val_acc: 0.7610\n",
            "Epoch 77/100\n",
            "100/100 [==============================] - 8s 83ms/step - loss: 0.0130 - acc: 0.9980 - val_loss: 1.8734 - val_acc: 0.7630\n",
            "Epoch 78/100\n",
            "100/100 [==============================] - 8s 83ms/step - loss: 0.0024 - acc: 0.9980 - val_loss: 2.3078 - val_acc: 0.7450\n",
            "Epoch 79/100\n",
            "100/100 [==============================] - 8s 82ms/step - loss: 0.0025 - acc: 0.9990 - val_loss: 2.1212 - val_acc: 0.7400\n",
            "Epoch 80/100\n",
            "100/100 [==============================] - 8s 82ms/step - loss: 0.0055 - acc: 0.9985 - val_loss: 2.0215 - val_acc: 0.7570\n",
            "Epoch 81/100\n",
            "100/100 [==============================] - 8s 82ms/step - loss: 0.0041 - acc: 0.9980 - val_loss: 2.0065 - val_acc: 0.7390\n",
            "Epoch 82/100\n",
            "100/100 [==============================] - 8s 82ms/step - loss: 0.0072 - acc: 0.9970 - val_loss: 1.9358 - val_acc: 0.7600\n",
            "Epoch 83/100\n",
            "100/100 [==============================] - 8s 84ms/step - loss: 4.2169e-04 - acc: 1.0000 - val_loss: 2.0990 - val_acc: 0.7380\n",
            "Epoch 84/100\n",
            "100/100 [==============================] - 8s 82ms/step - loss: 0.0091 - acc: 0.9965 - val_loss: 2.1823 - val_acc: 0.7410\n",
            "Epoch 85/100\n",
            "100/100 [==============================] - 8s 81ms/step - loss: 0.0016 - acc: 0.9995 - val_loss: 3.0833 - val_acc: 0.6910\n",
            "Epoch 86/100\n",
            "100/100 [==============================] - 8s 82ms/step - loss: 0.0053 - acc: 0.9990 - val_loss: 2.8421 - val_acc: 0.7140\n",
            "Epoch 87/100\n",
            "100/100 [==============================] - 8s 82ms/step - loss: 0.0074 - acc: 0.9970 - val_loss: 2.0423 - val_acc: 0.7490\n",
            "Epoch 88/100\n",
            "100/100 [==============================] - 8s 82ms/step - loss: 9.2258e-05 - acc: 1.0000 - val_loss: 2.0546 - val_acc: 0.7560\n",
            "Epoch 89/100\n",
            "100/100 [==============================] - 8s 82ms/step - loss: 0.0025 - acc: 0.9985 - val_loss: 2.1096 - val_acc: 0.7440\n",
            "Epoch 90/100\n",
            "100/100 [==============================] - 8s 83ms/step - loss: 0.0012 - acc: 0.9995 - val_loss: 2.1174 - val_acc: 0.7530\n",
            "Epoch 91/100\n",
            "100/100 [==============================] - 8s 84ms/step - loss: 0.0067 - acc: 0.9975 - val_loss: 2.1550 - val_acc: 0.7480\n",
            "Epoch 92/100\n",
            "100/100 [==============================] - 8s 84ms/step - loss: 5.0693e-04 - acc: 1.0000 - val_loss: 2.2358 - val_acc: 0.7410\n",
            "Epoch 93/100\n",
            "100/100 [==============================] - 8s 83ms/step - loss: 0.0091 - acc: 0.9980 - val_loss: 2.5538 - val_acc: 0.7290\n",
            "Epoch 94/100\n",
            "100/100 [==============================] - 8s 83ms/step - loss: 3.1274e-04 - acc: 1.0000 - val_loss: 2.1077 - val_acc: 0.7510\n",
            "Epoch 95/100\n",
            "100/100 [==============================] - 8s 82ms/step - loss: 7.5058e-04 - acc: 0.9995 - val_loss: 2.0868 - val_acc: 0.7550\n",
            "Epoch 96/100\n",
            "100/100 [==============================] - 8s 82ms/step - loss: 2.5538e-04 - acc: 1.0000 - val_loss: 2.2988 - val_acc: 0.7560\n",
            "Epoch 97/100\n",
            "100/100 [==============================] - 8s 83ms/step - loss: 7.4917e-04 - acc: 1.0000 - val_loss: 2.2419 - val_acc: 0.7570\n",
            "Epoch 98/100\n",
            "100/100 [==============================] - 8s 83ms/step - loss: 0.0014 - acc: 0.9995 - val_loss: 2.2764 - val_acc: 0.7590\n",
            "Epoch 99/100\n",
            "100/100 [==============================] - 8s 83ms/step - loss: 0.0103 - acc: 0.9975 - val_loss: 2.4345 - val_acc: 0.7490\n",
            "Epoch 100/100\n",
            "100/100 [==============================] - 8s 83ms/step - loss: 1.1796e-04 - acc: 1.0000 - val_loss: 2.3984 - val_acc: 0.7620\n"
          ],
          "name": "stdout"
        }
      ]
    },
    {
      "cell_type": "code",
      "metadata": {
        "id": "8Boe5YcCUu-a",
        "colab_type": "code",
        "colab": {
          "base_uri": "https://localhost:8080/",
          "height": 545
        },
        "outputId": "5a3c5129-90a4-46d1-bfb1-e7aba9115f5d"
      },
      "source": [
        "import matplotlib.pyplot as plt\n",
        "acc = history.history['acc']\n",
        "val_acc = history.history['val_acc']\n",
        "loss = history.history['loss']\n",
        "val_loss = history.history['val_loss']\n",
        "\n",
        "epochs = range(len(acc))\n",
        "\n",
        "plt.plot(epochs, acc, 'bo', label='Training accuracy')\n",
        "plt.plot(epochs, val_acc, 'b', label='Validation accuracy')\n",
        "plt.title('Training and validation accuracy')\n",
        "\n",
        "plt.figure()\n",
        "\n",
        "plt.plot(epochs, loss, 'bo', label='Training Loss')\n",
        "plt.plot(epochs, val_loss, 'b', label='Validation Loss')\n",
        "plt.title('Training and validation loss')\n",
        "plt.legend()\n",
        "\n",
        "plt.show()"
      ],
      "execution_count": 12,
      "outputs": [
        {
          "output_type": "display_data",
          "data": {
            "image/png": "[encoded data removed]",
            "text/plain": [
              "<Figure size 432x288 with 1 Axes>"
            ]
          },
          "metadata": {
            "tags": []
          }
        },
        {
          "output_type": "display_data",
          "data": {
            "image/png": "[encoded data removed]",
            "text/plain": [
              "<Figure size 432x288 with 1 Axes>"
            ]
          },
          "metadata": {
            "tags": []
          }
        }
      ]
    },
    {
      "cell_type": "markdown",
      "metadata": {
        "id": "945PGw4cU53_",
        "colab_type": "text"
      },
      "source": [
        "**Image Augmentation**"
      ]
    },
    {
      "cell_type": "code",
      "metadata": {
        "id": "YFqT7ghjU_0X",
        "colab_type": "code",
        "colab": {
          "base_uri": "https://localhost:8080/",
          "height": 1000
        },
        "outputId": "bd3c3920-eeb8-4013-ce77-48364b41f6d0"
      },
      "source": [
        "# This code has changed. Now instead of the ImageGenerator just rescaling\n",
        "# the image, we also rotate and do other operations\n",
        "# Updated to do image augmentation\n",
        "train_datagen = ImageDataGenerator(\n",
        "      rescale=1./255,\n",
        "      rotation_range=40,\n",
        "      width_shift_range=0.2,\n",
        "      height_shift_range=0.2,\n",
        "      shear_range=0.2,\n",
        "      zoom_range=0.2,\n",
        "      horizontal_flip=True,\n",
        "      fill_mode='nearest')\n",
        "\n",
        "test_datagen = ImageDataGenerator(rescale=1./255)\n",
        "\n",
        "# Flow training images in batches of 20 using train_datagen generator\n",
        "train_generator = train_datagen.flow_from_directory(\n",
        "        train_dir,  # This is the source directory for training images\n",
        "        target_size=(150, 150),  # All images will be resized to 150x150\n",
        "        batch_size=20,\n",
        "        # Since we use binary_crossentropy loss, we need binary labels\n",
        "        class_mode='binary')\n",
        "\n",
        "# Flow validation images in batches of 20 using test_datagen generator\n",
        "validation_generator = test_datagen.flow_from_directory(\n",
        "        validation_dir,\n",
        "        target_size=(150, 150),\n",
        "        batch_size=20,\n",
        "        class_mode='binary')\n",
        "\n",
        "history = model.fit_generator(\n",
        "      train_generator,\n",
        "      steps_per_epoch=100,  # 2000 images = batch_size * steps\n",
        "      epochs=100,\n",
        "      validation_data=validation_generator,\n",
        "      validation_steps=50,  # 1000 images = batch_size * steps\n",
        "      verbose=1)"
      ],
      "execution_count": 13,
      "outputs": [
        {
          "output_type": "stream",
          "text": [
            "Found 2000 images belonging to 2 classes.\n",
            "Found 1000 images belonging to 2 classes.\n",
            "Epoch 1/100\n",
            "100/100 [==============================] - 17s 174ms/step - loss: 1.3454 - acc: 0.6740 - val_loss: 0.5883 - val_acc: 0.7200\n",
            "Epoch 2/100\n",
            "100/100 [==============================] - 16s 160ms/step - loss: 0.6204 - acc: 0.6700 - val_loss: 0.5393 - val_acc: 0.7250\n",
            "Epoch 3/100\n",
            "100/100 [==============================] - 16s 160ms/step - loss: 0.5716 - acc: 0.7005 - val_loss: 0.5229 - val_acc: 0.7310\n",
            "Epoch 4/100\n",
            "100/100 [==============================] - 16s 159ms/step - loss: 0.5930 - acc: 0.7015 - val_loss: 0.4929 - val_acc: 0.7600\n",
            "Epoch 5/100\n",
            "100/100 [==============================] - 16s 158ms/step - loss: 0.5551 - acc: 0.7130 - val_loss: 0.5154 - val_acc: 0.7590\n",
            "Epoch 6/100\n",
            "100/100 [==============================] - 16s 159ms/step - loss: 0.5526 - acc: 0.7240 - val_loss: 0.8496 - val_acc: 0.6660\n",
            "Epoch 7/100\n",
            "100/100 [==============================] - 16s 158ms/step - loss: 0.5527 - acc: 0.7195 - val_loss: 0.4994 - val_acc: 0.7740\n",
            "Epoch 8/100\n",
            "100/100 [==============================] - 16s 158ms/step - loss: 0.5342 - acc: 0.7375 - val_loss: 0.4819 - val_acc: 0.7710\n",
            "Epoch 9/100\n",
            "100/100 [==============================] - 16s 158ms/step - loss: 0.5573 - acc: 0.7180 - val_loss: 0.5024 - val_acc: 0.7710\n",
            "Epoch 10/100\n",
            "100/100 [==============================] - 16s 158ms/step - loss: 0.5349 - acc: 0.7350 - val_loss: 0.5282 - val_acc: 0.7370\n",
            "Epoch 11/100\n",
            "100/100 [==============================] - 16s 159ms/step - loss: 0.5345 - acc: 0.7360 - val_loss: 0.4688 - val_acc: 0.7760\n",
            "Epoch 12/100\n",
            "100/100 [==============================] - 16s 159ms/step - loss: 0.5349 - acc: 0.7410 - val_loss: 0.4966 - val_acc: 0.7630\n",
            "Epoch 13/100\n",
            "100/100 [==============================] - 16s 158ms/step - loss: 0.5335 - acc: 0.7370 - val_loss: 0.4733 - val_acc: 0.7780\n",
            "Epoch 14/100\n",
            "100/100 [==============================] - 16s 159ms/step - loss: 0.5253 - acc: 0.7430 - val_loss: 0.4678 - val_acc: 0.7760\n",
            "Epoch 15/100\n",
            "100/100 [==============================] - 16s 160ms/step - loss: 0.5009 - acc: 0.7555 - val_loss: 0.4979 - val_acc: 0.7490\n",
            "Epoch 16/100\n",
            "100/100 [==============================] - 16s 158ms/step - loss: 0.5067 - acc: 0.7490 - val_loss: 0.4842 - val_acc: 0.7710\n",
            "Epoch 17/100\n",
            "100/100 [==============================] - 16s 159ms/step - loss: 0.4826 - acc: 0.7645 - val_loss: 0.4764 - val_acc: 0.7700\n",
            "Epoch 18/100\n",
            "100/100 [==============================] - 16s 158ms/step - loss: 0.5017 - acc: 0.7580 - val_loss: 0.4643 - val_acc: 0.7800\n",
            "Epoch 19/100\n",
            "100/100 [==============================] - 16s 157ms/step - loss: 0.5053 - acc: 0.7555 - val_loss: 0.4858 - val_acc: 0.7800\n",
            "Epoch 20/100\n",
            "100/100 [==============================] - 16s 157ms/step - loss: 0.5088 - acc: 0.7485 - val_loss: 0.4621 - val_acc: 0.7770\n",
            "Epoch 21/100\n",
            "100/100 [==============================] - 16s 157ms/step - loss: 0.5057 - acc: 0.7530 - val_loss: 0.4775 - val_acc: 0.7770\n",
            "Epoch 22/100\n",
            "100/100 [==============================] - 16s 157ms/step - loss: 0.4876 - acc: 0.7735 - val_loss: 0.4825 - val_acc: 0.7620\n",
            "Epoch 23/100\n",
            "100/100 [==============================] - 16s 157ms/step - loss: 0.5014 - acc: 0.7575 - val_loss: 0.5640 - val_acc: 0.7150\n",
            "Epoch 24/100\n",
            "100/100 [==============================] - 16s 156ms/step - loss: 0.4932 - acc: 0.7630 - val_loss: 0.4575 - val_acc: 0.7850\n",
            "Epoch 25/100\n",
            "100/100 [==============================] - 16s 156ms/step - loss: 0.4784 - acc: 0.7765 - val_loss: 0.4392 - val_acc: 0.7890\n",
            "Epoch 26/100\n",
            "100/100 [==============================] - 16s 157ms/step - loss: 0.4952 - acc: 0.7680 - val_loss: 0.5035 - val_acc: 0.7600\n",
            "Epoch 27/100\n",
            "100/100 [==============================] - 16s 156ms/step - loss: 0.4851 - acc: 0.7605 - val_loss: 0.4584 - val_acc: 0.7840\n",
            "Epoch 28/100\n",
            "100/100 [==============================] - 16s 155ms/step - loss: 0.4906 - acc: 0.7600 - val_loss: 0.4672 - val_acc: 0.7700\n",
            "Epoch 29/100\n",
            "100/100 [==============================] - 16s 156ms/step - loss: 0.4862 - acc: 0.7745 - val_loss: 0.5156 - val_acc: 0.7700\n",
            "Epoch 30/100\n",
            "100/100 [==============================] - 16s 156ms/step - loss: 0.4717 - acc: 0.7775 - val_loss: 0.5004 - val_acc: 0.7610\n",
            "Epoch 31/100\n",
            "100/100 [==============================] - 16s 157ms/step - loss: 0.4782 - acc: 0.7695 - val_loss: 0.4302 - val_acc: 0.8060\n",
            "Epoch 32/100\n",
            "100/100 [==============================] - 16s 158ms/step - loss: 0.4747 - acc: 0.7745 - val_loss: 0.4710 - val_acc: 0.7790\n",
            "Epoch 33/100\n",
            "100/100 [==============================] - 16s 158ms/step - loss: 0.4761 - acc: 0.7665 - val_loss: 0.5103 - val_acc: 0.7690\n",
            "Epoch 34/100\n",
            "100/100 [==============================] - 16s 158ms/step - loss: 0.4771 - acc: 0.7700 - val_loss: 0.7047 - val_acc: 0.6850\n",
            "Epoch 35/100\n",
            "100/100 [==============================] - 16s 159ms/step - loss: 0.4821 - acc: 0.7640 - val_loss: 0.4453 - val_acc: 0.8030\n",
            "Epoch 36/100\n",
            "100/100 [==============================] - 16s 157ms/step - loss: 0.4656 - acc: 0.7760 - val_loss: 0.4502 - val_acc: 0.7780\n",
            "Epoch 37/100\n",
            "100/100 [==============================] - 16s 159ms/step - loss: 0.4619 - acc: 0.7860 - val_loss: 0.4461 - val_acc: 0.7920\n",
            "Epoch 38/100\n",
            "100/100 [==============================] - 16s 157ms/step - loss: 0.4762 - acc: 0.7755 - val_loss: 0.4425 - val_acc: 0.7960\n",
            "Epoch 39/100\n",
            "100/100 [==============================] - 16s 158ms/step - loss: 0.4718 - acc: 0.7810 - val_loss: 0.4426 - val_acc: 0.7890\n",
            "Epoch 40/100\n",
            "100/100 [==============================] - 16s 157ms/step - loss: 0.4595 - acc: 0.7815 - val_loss: 0.4425 - val_acc: 0.8000\n",
            "Epoch 41/100\n",
            "100/100 [==============================] - 16s 159ms/step - loss: 0.4710 - acc: 0.7740 - val_loss: 0.4263 - val_acc: 0.7970\n",
            "Epoch 42/100\n",
            "100/100 [==============================] - 16s 159ms/step - loss: 0.4623 - acc: 0.7810 - val_loss: 0.4478 - val_acc: 0.7900\n",
            "Epoch 43/100\n",
            "100/100 [==============================] - 16s 159ms/step - loss: 0.4552 - acc: 0.7860 - val_loss: 0.4106 - val_acc: 0.8170\n",
            "Epoch 44/100\n",
            "100/100 [==============================] - 16s 158ms/step - loss: 0.4521 - acc: 0.7980 - val_loss: 0.4806 - val_acc: 0.7820\n",
            "Epoch 45/100\n",
            "100/100 [==============================] - 16s 158ms/step - loss: 0.4554 - acc: 0.7945 - val_loss: 0.4801 - val_acc: 0.7950\n",
            "Epoch 46/100\n",
            "100/100 [==============================] - 16s 161ms/step - loss: 0.4509 - acc: 0.7835 - val_loss: 0.4794 - val_acc: 0.7690\n",
            "Epoch 47/100\n",
            "100/100 [==============================] - 16s 160ms/step - loss: 0.4609 - acc: 0.7810 - val_loss: 0.4225 - val_acc: 0.8040\n",
            "Epoch 48/100\n",
            "100/100 [==============================] - 16s 161ms/step - loss: 0.4421 - acc: 0.7975 - val_loss: 0.4074 - val_acc: 0.8200\n",
            "Epoch 49/100\n",
            "100/100 [==============================] - 16s 161ms/step - loss: 0.4446 - acc: 0.7895 - val_loss: 0.4167 - val_acc: 0.8050\n",
            "Epoch 50/100\n",
            "100/100 [==============================] - 16s 161ms/step - loss: 0.4417 - acc: 0.7920 - val_loss: 0.4669 - val_acc: 0.7750\n",
            "Epoch 51/100\n",
            "100/100 [==============================] - 16s 159ms/step - loss: 0.4390 - acc: 0.8020 - val_loss: 0.4163 - val_acc: 0.8080\n",
            "Epoch 52/100\n",
            "100/100 [==============================] - 16s 162ms/step - loss: 0.4400 - acc: 0.7845 - val_loss: 0.4152 - val_acc: 0.8280\n",
            "Epoch 53/100\n",
            "100/100 [==============================] - 16s 160ms/step - loss: 0.4302 - acc: 0.8010 - val_loss: 0.5773 - val_acc: 0.7400\n",
            "Epoch 54/100\n",
            "100/100 [==============================] - 16s 160ms/step - loss: 0.4523 - acc: 0.7810 - val_loss: 0.4036 - val_acc: 0.8080\n",
            "Epoch 55/100\n",
            "100/100 [==============================] - 16s 160ms/step - loss: 0.4311 - acc: 0.7970 - val_loss: 0.5079 - val_acc: 0.7760\n",
            "Epoch 56/100\n",
            "100/100 [==============================] - 16s 160ms/step - loss: 0.4427 - acc: 0.8000 - val_loss: 0.4338 - val_acc: 0.8090\n",
            "Epoch 57/100\n",
            "100/100 [==============================] - 16s 161ms/step - loss: 0.4412 - acc: 0.7925 - val_loss: 0.4518 - val_acc: 0.7850\n",
            "Epoch 58/100\n",
            "100/100 [==============================] - 16s 160ms/step - loss: 0.4249 - acc: 0.8125 - val_loss: 0.4053 - val_acc: 0.8130\n",
            "Epoch 59/100\n",
            "100/100 [==============================] - 16s 158ms/step - loss: 0.4238 - acc: 0.8085 - val_loss: 0.4673 - val_acc: 0.8110\n",
            "Epoch 60/100\n",
            "100/100 [==============================] - 16s 158ms/step - loss: 0.4340 - acc: 0.8025 - val_loss: 0.4538 - val_acc: 0.7920\n",
            "Epoch 61/100\n",
            "100/100 [==============================] - 16s 158ms/step - loss: 0.4175 - acc: 0.8060 - val_loss: 0.4093 - val_acc: 0.8180\n",
            "Epoch 62/100\n",
            "100/100 [==============================] - 16s 159ms/step - loss: 0.4245 - acc: 0.8075 - val_loss: 0.4137 - val_acc: 0.8150\n",
            "Epoch 63/100\n",
            "100/100 [==============================] - 16s 160ms/step - loss: 0.4170 - acc: 0.8050 - val_loss: 0.4661 - val_acc: 0.7890\n",
            "Epoch 64/100\n",
            "100/100 [==============================] - 16s 159ms/step - loss: 0.4282 - acc: 0.8015 - val_loss: 0.4234 - val_acc: 0.8000\n",
            "Epoch 65/100\n",
            "100/100 [==============================] - 16s 156ms/step - loss: 0.4192 - acc: 0.8105 - val_loss: 0.4223 - val_acc: 0.8140\n",
            "Epoch 66/100\n",
            "100/100 [==============================] - 16s 156ms/step - loss: 0.4097 - acc: 0.8160 - val_loss: 0.4287 - val_acc: 0.8140\n",
            "Epoch 67/100\n",
            "100/100 [==============================] - 16s 156ms/step - loss: 0.4359 - acc: 0.8050 - val_loss: 0.4179 - val_acc: 0.8010\n",
            "Epoch 68/100\n",
            "100/100 [==============================] - 16s 158ms/step - loss: 0.4249 - acc: 0.8100 - val_loss: 0.4929 - val_acc: 0.7460\n",
            "Epoch 69/100\n",
            "100/100 [==============================] - 16s 157ms/step - loss: 0.4034 - acc: 0.8155 - val_loss: 0.7503 - val_acc: 0.7400\n",
            "Epoch 70/100\n",
            "100/100 [==============================] - 16s 157ms/step - loss: 0.4322 - acc: 0.8020 - val_loss: 0.4554 - val_acc: 0.7950\n",
            "Epoch 71/100\n",
            "100/100 [==============================] - 16s 158ms/step - loss: 0.4101 - acc: 0.8145 - val_loss: 0.4821 - val_acc: 0.7750\n",
            "Epoch 72/100\n",
            "100/100 [==============================] - 16s 158ms/step - loss: 0.4162 - acc: 0.8135 - val_loss: 0.4942 - val_acc: 0.7840\n",
            "Epoch 73/100\n",
            "100/100 [==============================] - 16s 159ms/step - loss: 0.4003 - acc: 0.8140 - val_loss: 0.4396 - val_acc: 0.8090\n",
            "Epoch 74/100\n",
            "100/100 [==============================] - 16s 160ms/step - loss: 0.4037 - acc: 0.8285 - val_loss: 0.4190 - val_acc: 0.8190\n",
            "Epoch 75/100\n",
            "100/100 [==============================] - 16s 158ms/step - loss: 0.4017 - acc: 0.8275 - val_loss: 0.4080 - val_acc: 0.8140\n",
            "Epoch 76/100\n",
            "100/100 [==============================] - 16s 157ms/step - loss: 0.3954 - acc: 0.8230 - val_loss: 0.4296 - val_acc: 0.8070\n",
            "Epoch 77/100\n",
            "100/100 [==============================] - 16s 159ms/step - loss: 0.4017 - acc: 0.8270 - val_loss: 0.4710 - val_acc: 0.7770\n",
            "Epoch 78/100\n",
            "100/100 [==============================] - 16s 159ms/step - loss: 0.4075 - acc: 0.8240 - val_loss: 0.5144 - val_acc: 0.7950\n",
            "Epoch 79/100\n",
            "100/100 [==============================] - 16s 159ms/step - loss: 0.4037 - acc: 0.8185 - val_loss: 0.5416 - val_acc: 0.7470\n",
            "Epoch 80/100\n",
            "100/100 [==============================] - 16s 160ms/step - loss: 0.3857 - acc: 0.8330 - val_loss: 0.6546 - val_acc: 0.7310\n",
            "Epoch 81/100\n",
            "100/100 [==============================] - 16s 160ms/step - loss: 0.4110 - acc: 0.8140 - val_loss: 0.3844 - val_acc: 0.8180\n",
            "Epoch 82/100\n",
            "100/100 [==============================] - 16s 160ms/step - loss: 0.3981 - acc: 0.8135 - val_loss: 0.4039 - val_acc: 0.8170\n",
            "Epoch 83/100\n",
            "100/100 [==============================] - 16s 160ms/step - loss: 0.3860 - acc: 0.8240 - val_loss: 0.4080 - val_acc: 0.8130\n",
            "Epoch 84/100\n",
            "100/100 [==============================] - 16s 159ms/step - loss: 0.3971 - acc: 0.8180 - val_loss: 0.4380 - val_acc: 0.7970\n",
            "Epoch 85/100\n",
            "100/100 [==============================] - 16s 159ms/step - loss: 0.3856 - acc: 0.8200 - val_loss: 0.4405 - val_acc: 0.7870\n",
            "Epoch 86/100\n",
            "100/100 [==============================] - 16s 160ms/step - loss: 0.3927 - acc: 0.8355 - val_loss: 0.4803 - val_acc: 0.8100\n",
            "Epoch 87/100\n",
            "100/100 [==============================] - 16s 160ms/step - loss: 0.3978 - acc: 0.8285 - val_loss: 0.4002 - val_acc: 0.8270\n",
            "Epoch 88/100\n",
            "100/100 [==============================] - 16s 160ms/step - loss: 0.4071 - acc: 0.8190 - val_loss: 0.3965 - val_acc: 0.8100\n",
            "Epoch 89/100\n",
            "100/100 [==============================] - 16s 159ms/step - loss: 0.3988 - acc: 0.8170 - val_loss: 0.4344 - val_acc: 0.8030\n",
            "Epoch 90/100\n",
            "100/100 [==============================] - 16s 161ms/step - loss: 0.4091 - acc: 0.8190 - val_loss: 0.4439 - val_acc: 0.8010\n",
            "Epoch 91/100\n",
            "100/100 [==============================] - 16s 159ms/step - loss: 0.3991 - acc: 0.8205 - val_loss: 0.4488 - val_acc: 0.7900\n",
            "Epoch 92/100\n",
            "100/100 [==============================] - 16s 160ms/step - loss: 0.3968 - acc: 0.8240 - val_loss: 0.3969 - val_acc: 0.8170\n",
            "Epoch 93/100\n",
            "100/100 [==============================] - 16s 162ms/step - loss: 0.3929 - acc: 0.8320 - val_loss: 0.4177 - val_acc: 0.8130\n",
            "Epoch 94/100\n",
            "100/100 [==============================] - 16s 161ms/step - loss: 0.3899 - acc: 0.8320 - val_loss: 0.4541 - val_acc: 0.8090\n",
            "Epoch 95/100\n",
            "100/100 [==============================] - 16s 158ms/step - loss: 0.3736 - acc: 0.8450 - val_loss: 0.4588 - val_acc: 0.8200\n",
            "Epoch 96/100\n",
            "100/100 [==============================] - 16s 159ms/step - loss: 0.3897 - acc: 0.8350 - val_loss: 0.3844 - val_acc: 0.8220\n",
            "Epoch 97/100\n",
            "100/100 [==============================] - 16s 159ms/step - loss: 0.4085 - acc: 0.8210 - val_loss: 0.4796 - val_acc: 0.7970\n",
            "Epoch 98/100\n",
            "100/100 [==============================] - 16s 160ms/step - loss: 0.4016 - acc: 0.8295 - val_loss: 0.3905 - val_acc: 0.8210\n",
            "Epoch 99/100\n",
            "100/100 [==============================] - 16s 158ms/step - loss: 0.3971 - acc: 0.8180 - val_loss: 0.3903 - val_acc: 0.8280\n",
            "Epoch 100/100\n",
            "100/100 [==============================] - 16s 161ms/step - loss: 0.3768 - acc: 0.8320 - val_loss: 0.4586 - val_acc: 0.8160\n"
          ],
          "name": "stdout"
        }
      ]
    },
    {
      "cell_type": "code",
      "metadata": {
        "id": "geovi6xdVrFv",
        "colab_type": "code",
        "colab": {
          "base_uri": "https://localhost:8080/",
          "height": 545
        },
        "outputId": "b6cd6028-c597-41f2-f622-dbb4561e8b37"
      },
      "source": [
        "import matplotlib.pyplot as plt\n",
        "acc = history.history['acc']\n",
        "val_acc = history.history['val_acc']\n",
        "loss = history.history['loss']\n",
        "val_loss = history.history['val_loss']\n",
        "\n",
        "epochs = range(len(acc))\n",
        "\n",
        "plt.plot(epochs, acc, 'bo', label='Training accuracy')\n",
        "plt.plot(epochs, val_acc, 'b', label='Validation accuracy')\n",
        "plt.title('Training and validation accuracy')\n",
        "\n",
        "plt.figure()\n",
        "\n",
        "plt.plot(epochs, loss, 'bo', label='Training Loss')\n",
        "plt.plot(epochs, val_loss, 'b', label='Validation Loss')\n",
        "plt.title('Training and validation loss')\n",
        "plt.legend()\n",
        "\n",
        "plt.show()"
      ],
      "execution_count": 14,
      "outputs": [
        {
          "output_type": "display_data",
          "data": {
            "image/png": "[encoded data removed]",
            "text/plain": [
              "<Figure size 432x288 with 1 Axes>"
            ]
          },
          "metadata": {
            "tags": []
          }
        },
        {
          "output_type": "display_data",
          "data": {
            "image/png": "[encoded data removed]",
            "text/plain": [
              "<Figure size 432x288 with 1 Axes>"
            ]
          },
          "metadata": {
            "tags": []
          }
        }
      ]
    },
    {
      "cell_type": "code",
      "metadata": {
        "id": "uLzdBRa1a-sh",
        "colab_type": "code",
        "colab": {}
      },
      "source": [
        ""
      ],
      "execution_count": 0,
      "outputs": []
    }
  ]
}